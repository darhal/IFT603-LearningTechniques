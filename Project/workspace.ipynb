{
 "cells": [
  {
   "cell_type": "code",
   "execution_count": 5,
   "metadata": {},
   "outputs": [
    {
     "ename": "ModuleNotFoundError",
     "evalue": "No module named 'tools.Metrics'",
     "output_type": "error",
     "traceback": [
      "\u001b[1;31m---------------------------------------------------------------------------\u001b[0m",
      "\u001b[1;31mModuleNotFoundError\u001b[0m                       Traceback (most recent call last)",
      "\u001b[1;32md:\\COURS\\UdS\\IFT603-LearningTechniques\\Projet\\workspace.ipynb Cell 1\u001b[0m in \u001b[0;36m<module>\u001b[1;34m\u001b[0m\n\u001b[0;32m      <a href='vscode-notebook-cell:/d%3A/COURS/UdS/IFT603-LearningTechniques/Projet/workspace.ipynb#W0sZmlsZQ%3D%3D?line=4'>5</a>\u001b[0m \u001b[39mimport\u001b[39;00m \u001b[39mmatplotlib\u001b[39;00m\u001b[39m.\u001b[39;00m\u001b[39mpyplot\u001b[39;00m \u001b[39mas\u001b[39;00m \u001b[39mplt\u001b[39;00m\n\u001b[0;32m      <a href='vscode-notebook-cell:/d%3A/COURS/UdS/IFT603-LearningTechniques/Projet/workspace.ipynb#W0sZmlsZQ%3D%3D?line=6'>7</a>\u001b[0m \u001b[39mfrom\u001b[39;00m \u001b[39mtools\u001b[39;00m\u001b[39m.\u001b[39;00m\u001b[39mDataLoader\u001b[39;00m \u001b[39mimport\u001b[39;00m DataLoader\n\u001b[1;32m----> <a href='vscode-notebook-cell:/d%3A/COURS/UdS/IFT603-LearningTechniques/Projet/workspace.ipynb#W0sZmlsZQ%3D%3D?line=7'>8</a>\u001b[0m \u001b[39mfrom\u001b[39;00m \u001b[39mtools\u001b[39;00m\u001b[39m.\u001b[39;00m\u001b[39mModelTester\u001b[39;00m \u001b[39mimport\u001b[39;00m ModelTester\n\u001b[0;32m      <a href='vscode-notebook-cell:/d%3A/COURS/UdS/IFT603-LearningTechniques/Projet/workspace.ipynb#W0sZmlsZQ%3D%3D?line=8'>9</a>\u001b[0m \u001b[39mfrom\u001b[39;00m \u001b[39mmodels\u001b[39;00m \u001b[39mimport\u001b[39;00m LinearModels\n\u001b[0;32m     <a href='vscode-notebook-cell:/d%3A/COURS/UdS/IFT603-LearningTechniques/Projet/workspace.ipynb#W0sZmlsZQ%3D%3D?line=9'>10</a>\u001b[0m \u001b[39mfrom\u001b[39;00m \u001b[39mtools\u001b[39;00m\u001b[39m.\u001b[39;00m\u001b[39mmetrics\u001b[39;00m \u001b[39mimport\u001b[39;00m \u001b[39m*\u001b[39m\n",
      "File \u001b[1;32md:\\COURS\\UdS\\IFT603-LearningTechniques\\Projet\\tools\\ModelTester.py:12\u001b[0m, in \u001b[0;36m<module>\u001b[1;34m\u001b[0m\n\u001b[0;32m     10\u001b[0m \u001b[39mimport\u001b[39;00m \u001b[39mmatplotlib\u001b[39;00m\u001b[39m.\u001b[39;00m\u001b[39mpyplot\u001b[39;00m \u001b[39mas\u001b[39;00m \u001b[39mplt\u001b[39;00m\n\u001b[0;32m     11\u001b[0m \u001b[39mimport\u001b[39;00m \u001b[39mpandas\u001b[39;00m \u001b[39mas\u001b[39;00m \u001b[39mpd\u001b[39;00m\n\u001b[1;32m---> 12\u001b[0m \u001b[39mfrom\u001b[39;00m \u001b[39mtools\u001b[39;00m\u001b[39m.\u001b[39;00m\u001b[39mMetrics\u001b[39;00m \u001b[39mimport\u001b[39;00m \u001b[39m*\u001b[39m\n\u001b[0;32m     14\u001b[0m \u001b[39mclass\u001b[39;00m \u001b[39mModelTester\u001b[39;00m():\n\u001b[0;32m     15\u001b[0m     \u001b[39mdef\u001b[39;00m \u001b[39m__init__\u001b[39m(\u001b[39mself\u001b[39m, class_name, \u001b[39m*\u001b[39m\u001b[39m*\u001b[39mhparams_config):\n",
      "\u001b[1;31mModuleNotFoundError\u001b[0m: No module named 'tools.Metrics'"
     ]
    }
   ],
   "source": [
    "import sys\n",
    "import numpy as np\n",
    "import pandas as pd\n",
    "import sklearn as sk\n",
    "import matplotlib.pyplot as plt\n",
    "\n",
    "from tools.DataLoader import DataLoader\n",
    "from tools.ModelTester import ModelTester\n",
    "from models import LinearModels\n",
    "from tools.Metrics import *\n",
    "\n",
    "%matplotlib inline\n",
    "plt.rcParams['figure.figsize'] = (14.0, 8.0) # set default size of plots\n",
    "\n",
    "%load_ext autoreload\n",
    "%autoreload 2"
   ]
  },
  {
   "cell_type": "code",
   "execution_count": null,
   "metadata": {},
   "outputs": [],
   "source": [
    "dl = DataLoader(\"data/train.csv\", class_col_name=\"species\", excluded_features={\"id\"})\n",
    "dl.load()\n",
    "dataset = dl.get_dataset()\n",
    "\n",
    "print(f\"Number of data entries : {len(dataset)}\")\n",
    "print(f\"Number of classes : {len(dataset.group_by_class())}\")\n",
    "\n",
    "grouppedClasses = pd.DataFrame(\n",
    "    data=np.array([ len(ds) for ds in dataset.group_by_class() ]),\n",
    "    columns=[\"Count\"],\n",
    "    index=[f\"{dl.get_label_name(ds.labels[0])}\" for ds in dataset.group_by_class()]\n",
    ")\n",
    "display(grouppedClasses)\n",
    "\n",
    "# Stratisfied split !\n",
    "dataset.shuffle_data()\n",
    "train_set, test_set = dataset.split_by_class([0.8])\n",
    "print(f\"Train set : {len(train_set)} - Number of classes : {len(train_set.group_by_class())}\")\n",
    "print(f\"Train set : {len(test_set)} - Number of classes : {len(test_set.group_by_class())}\")"
   ]
  },
  {
   "cell_type": "code",
   "execution_count": null,
   "metadata": {},
   "outputs": [],
   "source": [
    "from sklearn.decomposition import PCA\n",
    "\n",
    "# Project into the PCA space (2 major axis)\n",
    "pca = PCA()\n",
    "pcaSpace = pca.fit_transform(train_set.features)\n",
    "pcaSpaceXY = (pcaSpace[:,0], pcaSpace[:,1])\n",
    "\n",
    "# Plot PCA axis contributions\n",
    "plt.figure(figsize=(8, 6), dpi=120)\n",
    "plt.plot(pca.explained_variance_ratio_)\n",
    "plt.ylabel(\"Variance\")\n",
    "plt.xlabel(\"Components\")\n",
    "plt.show()\n",
    "\n",
    "# Plot data in the PCA space (2 major axis)\n",
    "plt.figure(figsize=(8, 6), dpi=120)\n",
    "plt.xlabel(\"PC1\")\n",
    "plt.ylabel(\"PC2\")\n",
    "scatter = plt.scatter(x=pcaSpaceXY[0], y=pcaSpaceXY[1], c=train_set.labels, s=15)\n",
    "plt.legend(handles=scatter.legend_elements(num=3)[0], labels=dl.classes)\n",
    "plt.title(\"Data represented in the PCA space\", loc='center', wrap=True)\n",
    "plt.show()"
   ]
  },
  {
   "cell_type": "code",
   "execution_count": null,
   "metadata": {},
   "outputs": [],
   "source": [
    "# Linear Regression : \n",
    "mt = ModelTester(\"LinearRegression\")\n",
    "mt.test(train_set, test_set)\n",
    "\n",
    "# Ridge Regression : \n",
    "mt = ModelTester(\"RidgeRegression\", core_model__alpha=np.logspace(-9, 0.3, num=20))\n",
    "mt.test(train_set, test_set)\n",
    "\n",
    "# Logistic Regression :\n",
    "mt = ModelTester(\"LogisticClassifier\", core_model__C=np.logspace(-9, 0.3, num=20))\n",
    "mt.test(train_set, test_set)\n",
    "\n",
    "# Perceptron : \n",
    "mt = ModelTester(\"SinglePerceptron\", core_model__alpha=np.logspace(-9, 0.3, num=20))\n",
    "mt.test(train_set, test_set)\n",
    "\n",
    "# SVM : \n",
    "mt = ModelTester(\"SupportVectorMachine\", core_model__C=np.logspace(-9, 0.3, num=20))\n",
    "mt.test(train_set, test_set)"
   ]
  }
 ],
 "metadata": {
  "kernelspec": {
   "display_name": "Python 3.9.1 64-bit",
   "language": "python",
   "name": "python3"
  },
  "language_info": {
   "codemirror_mode": {
    "name": "ipython",
    "version": 3
   },
   "file_extension": ".py",
   "mimetype": "text/x-python",
   "name": "python",
   "nbconvert_exporter": "python",
   "pygments_lexer": "ipython3",
   "version": "3.9.1"
  },
  "orig_nbformat": 4,
  "vscode": {
   "interpreter": {
    "hash": "501834c540f8b330c04c1d43ec1666643355d13f80c9caf7e1080236b3fb263f"
   }
  }
 },
 "nbformat": 4,
 "nbformat_minor": 2
}
