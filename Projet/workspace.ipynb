{
 "cells": [
  {
   "cell_type": "code",
   "execution_count": 18,
   "metadata": {},
   "outputs": [
    {
     "ename": "FileNotFoundError",
     "evalue": "[Errno 2] No such file or directory: 'test.csv'",
     "output_type": "error",
     "traceback": [
      "\u001b[1;31m---------------------------------------------------------------------------\u001b[0m",
      "\u001b[1;31mFileNotFoundError\u001b[0m                         Traceback (most recent call last)",
      "\u001b[1;32md:\\COURS\\UdS\\IFT603-LearningTechniques\\Projet\\workspace.ipynb Cell 1\u001b[0m in \u001b[0;36m<module>\u001b[1;34m\u001b[0m\n\u001b[0;32m      <a href='vscode-notebook-cell:/d%3A/COURS/UdS/IFT603-LearningTechniques/Projet/workspace.ipynb#W0sZmlsZQ%3D%3D?line=0'>1</a>\u001b[0m \u001b[39mfrom\u001b[39;00m \u001b[39mtools\u001b[39;00m\u001b[39m.\u001b[39;00m\u001b[39mDataLoader\u001b[39;00m \u001b[39mimport\u001b[39;00m DataLoader\n\u001b[0;32m      <a href='vscode-notebook-cell:/d%3A/COURS/UdS/IFT603-LearningTechniques/Projet/workspace.ipynb#W0sZmlsZQ%3D%3D?line=2'>3</a>\u001b[0m dl \u001b[39m=\u001b[39m DataLoader(\u001b[39m\"\u001b[39m\u001b[39mdata/train.csv\u001b[39m\u001b[39m\"\u001b[39m)\n\u001b[1;32m----> <a href='vscode-notebook-cell:/d%3A/COURS/UdS/IFT603-LearningTechniques/Projet/workspace.ipynb#W0sZmlsZQ%3D%3D?line=3'>4</a>\u001b[0m dl\u001b[39m.\u001b[39;49mload()\n\u001b[0;32m      <a href='vscode-notebook-cell:/d%3A/COURS/UdS/IFT603-LearningTechniques/Projet/workspace.ipynb#W0sZmlsZQ%3D%3D?line=4'>5</a>\u001b[0m \u001b[39mprint\u001b[39m(dl\u001b[39m.\u001b[39mget_data())\n",
      "File \u001b[1;32md:\\COURS\\UdS\\IFT603-LearningTechniques\\Projet\\tools\\DataLoader.py:17\u001b[0m, in \u001b[0;36mDataLoader.load\u001b[1;34m(self)\u001b[0m\n\u001b[0;32m     16\u001b[0m \u001b[39mdef\u001b[39;00m \u001b[39mload\u001b[39m(\u001b[39mself\u001b[39m):\n\u001b[1;32m---> 17\u001b[0m     \u001b[39mtry\u001b[39;00m:\n\u001b[0;32m     18\u001b[0m         inputfile \u001b[39m=\u001b[39m \u001b[39mopen\u001b[39m(\u001b[39mself\u001b[39m\u001b[39m.\u001b[39mfilename, newline\u001b[39m=\u001b[39m\u001b[39m'\u001b[39m\u001b[39m\\n\u001b[39;00m\u001b[39m'\u001b[39m)\n\u001b[0;32m     19\u001b[0m     \u001b[39mexcept\u001b[39;00m \u001b[39mFileNotFoundError\u001b[39;00m:\n",
      "\u001b[1;31mFileNotFoundError\u001b[0m: [Errno 2] No such file or directory: 'test.csv'"
     ]
    }
   ],
   "source": [
    "from tools.DataLoader import DataLoader\n",
    "\n",
    "dl = DataLoader(\"data/train.csv\")\n",
    "dl.load()\n",
    "print(dl.get_data())"
   ]
  }
 ],
 "metadata": {
  "kernelspec": {
   "display_name": "Python 3.9.1 64-bit",
   "language": "python",
   "name": "python3"
  },
  "language_info": {
   "codemirror_mode": {
    "name": "ipython",
    "version": 3
   },
   "file_extension": ".py",
   "mimetype": "text/x-python",
   "name": "python",
   "nbconvert_exporter": "python",
   "pygments_lexer": "ipython3",
   "version": "3.9.1"
  },
  "orig_nbformat": 4,
  "vscode": {
   "interpreter": {
    "hash": "501834c540f8b330c04c1d43ec1666643355d13f80c9caf7e1080236b3fb263f"
   }
  }
 },
 "nbformat": 4,
 "nbformat_minor": 2
}
